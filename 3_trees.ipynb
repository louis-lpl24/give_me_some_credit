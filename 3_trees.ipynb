{
 "cells": [
  {
   "cell_type": "markdown",
   "metadata": {},
   "source": [
    "# Attempt 3 - Trees & Ensemble\n",
    "Trying different types of models - ideally we can try AutoML approaches for everything including all the hyperparameter tuning and model exploration as out dataset is relatively clean is strictly relational, which we do not do here, so this is a halfway attempt whose sole goal is to maximize Kaggle score"
   ]
  },
  {
   "cell_type": "code",
   "execution_count": 1,
   "metadata": {},
   "outputs": [],
   "source": [
    "%matplotlib inline\n",
    "import matplotlib.pyplot as plt\n",
    "\n",
    "import warnings\n",
    "warnings.simplefilter(action='ignore', category=FutureWarning)\n",
    "\n",
    "import copy\n",
    "import numpy as np\n",
    "import pandas as pd\n",
    "\n",
    "from collections import defaultdict\n",
    "from sklearn.model_selection import StratifiedKFold\n",
    "from sklearn.metrics import roc_auc_score\n",
    "\n",
    "from src.data.utils import read_df, get_xy\n",
    "from src.nb_utils.data import summarize_df\n",
    "from src.nb_utils.eval import plot_roc, plot_pr\n",
    "from src.nb_utils.woe import summarize_woe_iv\n",
    "from src.data.transforms.null_transform import null_transform\n",
    "from src.data.transforms.simple_transform import log_almost_all_vars_transform_v2\n",
    "from src.data.transforms.woe_transform import forced_binning, WoETransformV2\n",
    "from src.models.fit import kfold_fit, df_train_test_stratify_split, fit_and_eval\n",
    "from src.models.ensemble import Ensemble \n",
    "from src.models.models import StatsModelsLogisticRegression, XGBoostClassifier, LightGBMClassifier\n",
    "from src.utils.eval import generate_test_output, eval_auc"
   ]
  },
  {
   "cell_type": "markdown",
   "metadata": {},
   "source": [
    "## Read Data"
   ]
  },
  {
   "cell_type": "code",
   "execution_count": 2,
   "metadata": {},
   "outputs": [
    {
     "data": {
      "text/html": [
       "<div>\n",
       "<style scoped>\n",
       "    .dataframe tbody tr th:only-of-type {\n",
       "        vertical-align: middle;\n",
       "    }\n",
       "\n",
       "    .dataframe tbody tr th {\n",
       "        vertical-align: top;\n",
       "    }\n",
       "\n",
       "    .dataframe thead th {\n",
       "        text-align: right;\n",
       "    }\n",
       "</style>\n",
       "<table border=\"1\" class=\"dataframe\">\n",
       "  <thead>\n",
       "    <tr style=\"text-align: right;\">\n",
       "      <th></th>\n",
       "      <th>N/A count</th>\n",
       "      <th>N/A fraction</th>\n",
       "    </tr>\n",
       "    <tr>\n",
       "      <th>Variable Name</th>\n",
       "      <th></th>\n",
       "      <th></th>\n",
       "    </tr>\n",
       "  </thead>\n",
       "  <tbody>\n",
       "    <tr>\n",
       "      <th>MonthlyIncome</th>\n",
       "      <td>29731</td>\n",
       "      <td>0.198207</td>\n",
       "    </tr>\n",
       "    <tr>\n",
       "      <th>NumberOfDependents</th>\n",
       "      <td>3924</td>\n",
       "      <td>0.026160</td>\n",
       "    </tr>\n",
       "    <tr>\n",
       "      <th>SeriousDlqin2yrs</th>\n",
       "      <td>0</td>\n",
       "      <td>0.000000</td>\n",
       "    </tr>\n",
       "    <tr>\n",
       "      <th>RevolvingUtilizationOfUnsecuredLines</th>\n",
       "      <td>0</td>\n",
       "      <td>0.000000</td>\n",
       "    </tr>\n",
       "    <tr>\n",
       "      <th>age</th>\n",
       "      <td>0</td>\n",
       "      <td>0.000000</td>\n",
       "    </tr>\n",
       "    <tr>\n",
       "      <th>NumberOfTime30-59DaysPastDueNotWorse</th>\n",
       "      <td>0</td>\n",
       "      <td>0.000000</td>\n",
       "    </tr>\n",
       "    <tr>\n",
       "      <th>DebtRatio</th>\n",
       "      <td>0</td>\n",
       "      <td>0.000000</td>\n",
       "    </tr>\n",
       "    <tr>\n",
       "      <th>NumberRealEstateLoansOrLines</th>\n",
       "      <td>0</td>\n",
       "      <td>0.000000</td>\n",
       "    </tr>\n",
       "    <tr>\n",
       "      <th>NumberOfOpenCreditLinesAndLoans</th>\n",
       "      <td>0</td>\n",
       "      <td>0.000000</td>\n",
       "    </tr>\n",
       "    <tr>\n",
       "      <th>NumberOfTimes90DaysLate</th>\n",
       "      <td>0</td>\n",
       "      <td>0.000000</td>\n",
       "    </tr>\n",
       "    <tr>\n",
       "      <th>id</th>\n",
       "      <td>0</td>\n",
       "      <td>0.000000</td>\n",
       "    </tr>\n",
       "    <tr>\n",
       "      <th>NumberOfTime60-89DaysPastDueNotWorse</th>\n",
       "      <td>0</td>\n",
       "      <td>0.000000</td>\n",
       "    </tr>\n",
       "  </tbody>\n",
       "</table>\n",
       "</div>"
      ],
      "text/plain": [
       "                                      N/A count  N/A fraction\n",
       "Variable Name                                                \n",
       "MonthlyIncome                             29731      0.198207\n",
       "NumberOfDependents                         3924      0.026160\n",
       "SeriousDlqin2yrs                              0      0.000000\n",
       "RevolvingUtilizationOfUnsecuredLines          0      0.000000\n",
       "age                                           0      0.000000\n",
       "NumberOfTime30-59DaysPastDueNotWorse          0      0.000000\n",
       "DebtRatio                                     0      0.000000\n",
       "NumberRealEstateLoansOrLines                  0      0.000000\n",
       "NumberOfOpenCreditLinesAndLoans               0      0.000000\n",
       "NumberOfTimes90DaysLate                       0      0.000000\n",
       "id                                            0      0.000000\n",
       "NumberOfTime60-89DaysPastDueNotWorse          0      0.000000"
      ]
     },
     "execution_count": 2,
     "metadata": {},
     "output_type": "execute_result"
    }
   ],
   "source": [
    "raw_df = read_df(\"./data/dataset/cs-training.csv\")\n",
    "summarize_df(raw_df)"
   ]
  },
  {
   "cell_type": "markdown",
   "metadata": {},
   "source": [
    "## Load saved transformations & logistic model"
   ]
  },
  {
   "cell_type": "code",
   "execution_count": 3,
   "metadata": {},
   "outputs": [],
   "source": [
    "woe_v2_transform = WoETransformV2()\n",
    "woe_v2_transform.load(\"./data/models/woe_fit_v2.pckl\")\n",
    "\n",
    "sm_model_woe_v2 = StatsModelsLogisticRegression(\"./data/models/sm_model_woe_v2.pckl\")"
   ]
  },
  {
   "cell_type": "markdown",
   "metadata": {},
   "source": [
    "## Define transformations\n",
    "1. df_log_most_v2 - same as df_log_most_v2 in Attempt 1 - impute N/As, log(x), don't drop any variables\n",
    "2. df - do nothing - no transformations, no imputations as trees will handle N/A\n",
    "3. df_woe_v2 - same as that in Attempt 2 - don't drop any variables"
   ]
  },
  {
   "cell_type": "code",
   "execution_count": 4,
   "metadata": {},
   "outputs": [],
   "source": [
    "df_log_most_v2, _ = log_almost_all_vars_transform_v2(raw_df)  # log(x) of most cols from Attempt 1\n",
    "df, _ = null_transform(raw_df)  # null transform\n",
    "df_woe_v2, _ = woe_v2_transform(raw_df)  # Attempt 2's WoE binning transform"
   ]
  },
  {
   "cell_type": "markdown",
   "metadata": {},
   "source": [
    "## XGBoost Fit\n",
    "Not surpirsingly, transformed data such as logged doesn't make too much of a difference to tree-baed methods as they already do non-linear partitioning when splitting nodes by feature threshold values."
   ]
  },
  {
   "cell_type": "code",
   "execution_count": 5,
   "metadata": {},
   "outputs": [
    {
     "name": "stdout",
     "output_type": "stream",
     "text": [
      "XGB Classifier 1\n",
      "kfold x-val for k=5\n",
      "run 1 - class [0 1] for train=[111980   8020], test=[27994  2006] --> AUC=0.868\n",
      "run 2 - class [0 1] for train=[111979   8021], test=[27995  2005] --> AUC=0.871\n",
      "run 3 - class [0 1] for train=[111979   8021], test=[27995  2005] --> AUC=0.860\n",
      "run 4 - class [0 1] for train=[111979   8021], test=[27995  2005] --> AUC=0.864\n",
      "run 5 - class [0 1] for train=[111979   8021], test=[27995  2005] --> AUC=0.860\n",
      "XGB Classifier 2\n",
      "kfold x-val for k=5\n",
      "run 1 - class [0 1] for train=[111980   8020], test=[27994  2006] --> AUC=0.870\n",
      "run 2 - class [0 1] for train=[111979   8021], test=[27995  2005] --> AUC=0.862\n",
      "run 3 - class [0 1] for train=[111979   8021], test=[27995  2005] --> AUC=0.853\n",
      "run 4 - class [0 1] for train=[111979   8021], test=[27995  2005] --> AUC=0.866\n",
      "run 5 - class [0 1] for train=[111979   8021], test=[27995  2005] --> AUC=0.854\n",
      "XGB Classifier 3\n",
      "kfold x-val for k=5\n",
      "run 1 - class [0 1] for train=[111980   8020], test=[27994  2006] --> AUC=0.869\n",
      "run 2 - class [0 1] for train=[111979   8021], test=[27995  2005] --> AUC=0.857\n",
      "run 3 - class [0 1] for train=[111979   8021], test=[27995  2005] --> AUC=0.869\n",
      "run 4 - class [0 1] for train=[111979   8021], test=[27995  2005] --> AUC=0.862\n",
      "run 5 - class [0 1] for train=[111979   8021], test=[27995  2005] --> AUC=0.867\n"
     ]
    }
   ],
   "source": [
    "print(\"XGB Classifier 1\")\n",
    "xg_cls_model_1 = kfold_fit(df_log_most_v2, 5, XGBoostClassifier)\n",
    "\n",
    "print(\"XGB Classifier 2\")\n",
    "xg_cls_model_2 = kfold_fit(df_woe_v2, 5, XGBoostClassifier)\n",
    "\n",
    "print(\"XGB Classifier 3\")\n",
    "xg_cls_model_3 = kfold_fit(df, 5, XGBoostClassifier)\n",
    "xg_cls_model_3.save(\"./data/models/xg_cls_model_3.pckl\")"
   ]
  },
  {
   "cell_type": "markdown",
   "metadata": {},
   "source": [
    "## LightGBM Classifier\n",
    "Same observation"
   ]
  },
  {
   "cell_type": "code",
   "execution_count": 6,
   "metadata": {},
   "outputs": [
    {
     "name": "stdout",
     "output_type": "stream",
     "text": [
      "LightGBM Classifier 1\n",
      "kfold x-val for k=5\n",
      "run 1 - class [0 1] for train=[111980   8020], test=[27994  2006] --> AUC=0.863\n",
      "run 2 - class [0 1] for train=[111979   8021], test=[27995  2005] --> AUC=0.866\n",
      "run 3 - class [0 1] for train=[111979   8021], test=[27995  2005] --> AUC=0.864\n",
      "run 4 - class [0 1] for train=[111979   8021], test=[27995  2005] --> AUC=0.867\n",
      "run 5 - class [0 1] for train=[111979   8021], test=[27995  2005] --> AUC=0.861\n",
      "LightGBM Classifier 2\n",
      "kfold x-val for k=5\n",
      "run 1 - class [0 1] for train=[111980   8020], test=[27994  2006] --> AUC=0.862\n",
      "run 2 - class [0 1] for train=[111979   8021], test=[27995  2005] --> AUC=0.862\n",
      "run 3 - class [0 1] for train=[111979   8021], test=[27995  2005] --> AUC=0.864\n",
      "run 4 - class [0 1] for train=[111979   8021], test=[27995  2005] --> AUC=0.854\n",
      "run 5 - class [0 1] for train=[111979   8021], test=[27995  2005] --> AUC=0.867\n",
      "LightGBM Classifier 3\n",
      "kfold x-val for k=5\n",
      "run 1 - class [0 1] for train=[111980   8020], test=[27994  2006] --> AUC=0.869\n",
      "run 2 - class [0 1] for train=[111979   8021], test=[27995  2005] --> AUC=0.860\n",
      "run 3 - class [0 1] for train=[111979   8021], test=[27995  2005] --> AUC=0.862\n",
      "run 4 - class [0 1] for train=[111979   8021], test=[27995  2005] --> AUC=0.865\n",
      "run 5 - class [0 1] for train=[111979   8021], test=[27995  2005] --> AUC=0.868\n"
     ]
    }
   ],
   "source": [
    "print(f\"LightGBM Classifier 1\")\n",
    "lgbm_model_1 = kfold_fit(df_log_most_v2, 5, LightGBMClassifier)\n",
    "\n",
    "print(f\"LightGBM Classifier 2\")\n",
    "lgbm_model_2 = kfold_fit(df_woe_v2, 5, LightGBMClassifier)\n",
    "\n",
    "print(f\"LightGBM Classifier 3\")\n",
    "lgbm_model_3 = kfold_fit(df, 5, LightGBMClassifier)\n",
    "lgbm_model_3.save(\"./data/models/lgbm_model_3.pckl\")"
   ]
  },
  {
   "cell_type": "markdown",
   "metadata": {},
   "source": [
    "# Sanity check for proper Train/Test split AUC and PR Curves\n",
    "Compared to logistic model there seems to be a mild overfitting in the tree-based methods (AUC is better bu ~0.3 for LightGBM)"
   ]
  },
  {
   "cell_type": "markdown",
   "metadata": {},
   "source": [
    "### XGBoost"
   ]
  },
  {
   "cell_type": "code",
   "execution_count": 7,
   "metadata": {},
   "outputs": [
    {
     "name": "stdout",
     "output_type": "stream",
     "text": [
      "class [0 1] for train=[97982  7018], test=[41992  3008] - auc=0.860\n",
      "Train\n"
     ]
    },
    {
     "data": {
      "image/png": "[encoded data removed]",
      "text/plain": [
       "<Figure size 432x288 with 1 Axes>"
      ]
     },
     "metadata": {
      "needs_background": "light"
     },
     "output_type": "display_data"
    },
    {
     "name": "stdout",
     "output_type": "stream",
     "text": [
      "Test\n"
     ]
    },
    {
     "data": {
      "image/png": "[encoded data removed]",
      "text/plain": [
       "<Figure size 432x288 with 1 Axes>"
      ]
     },
     "metadata": {
      "needs_background": "light"
     },
     "output_type": "display_data"
    },
    {
     "data": {
      "image/png": "[encoded data removed]",
      "text/plain": [
       "<Figure size 432x288 with 1 Axes>"
      ]
     },
     "metadata": {
      "needs_background": "light"
     },
     "output_type": "display_data"
    },
    {
     "data": {
      "image/png": "[encoded data removed]",
      "text/plain": [
       "<Figure size 432x288 with 1 Axes>"
      ]
     },
     "metadata": {
      "needs_background": "light"
     },
     "output_type": "display_data"
    }
   ],
   "source": [
    "X_train, X_test, y_train, y_test = df_train_test_stratify_split(raw_df, test_size=0.3)\n",
    "\n",
    "X_train, _ = null_transform(X_train)\n",
    "X_test, _ = null_transform(X_test)\n",
    "\n",
    "xg_cls_model_3_train_test = fit_and_eval(XGBoostClassifier, X_train, X_test, y_train, y_test)\n",
    "\n",
    "print(\"Train\")\n",
    "plot_roc(xg_cls_model_3_train_test, X_train, y_train)\n",
    "plot_pr(xg_cls_model_3_train_test, X_train, y_train)\n",
    "\n",
    "print(\"Test\")\n",
    "plot_roc(xg_cls_model_3_train_test, X_test, y_test)\n",
    "plot_pr(xg_cls_model_3_train_test, X_test, y_test)"
   ]
  },
  {
   "cell_type": "markdown",
   "metadata": {},
   "source": [
    "### LightGBM"
   ]
  },
  {
   "cell_type": "code",
   "execution_count": 8,
   "metadata": {},
   "outputs": [
    {
     "name": "stdout",
     "output_type": "stream",
     "text": [
      "class [0 1] for train=[97982  7018], test=[41992  3008] - auc=0.858\n",
      "Train\n"
     ]
    },
    {
     "data": {
      "image/png": "[encoded data removed]",
      "text/plain": [
       "<Figure size 432x288 with 1 Axes>"
      ]
     },
     "metadata": {
      "needs_background": "light"
     },
     "output_type": "display_data"
    },
    {
     "name": "stdout",
     "output_type": "stream",
     "text": [
      "Test\n"
     ]
    },
    {
     "data": {
      "image/png": "[encoded data removed]",
      "text/plain": [
       "<Figure size 432x288 with 1 Axes>"
      ]
     },
     "metadata": {
      "needs_background": "light"
     },
     "output_type": "display_data"
    },
    {
     "data": {
      "image/png": "[encoded data removed]",
      "text/plain": [
       "<Figure size 432x288 with 1 Axes>"
      ]
     },
     "metadata": {
      "needs_background": "light"
     },
     "output_type": "display_data"
    },
    {
     "data": {
      "image/png": "[encoded data removed]",
      "text/plain": [
       "<Figure size 432x288 with 1 Axes>"
      ]
     },
     "metadata": {
      "needs_background": "light"
     },
     "output_type": "display_data"
    }
   ],
   "source": [
    "lgbm_model_3_train_test = fit_and_eval(LightGBMClassifier, X_train, X_test, y_train, y_test)\n",
    "\n",
    "print(\"Train\")\n",
    "plot_roc(lgbm_model_3_train_test, X_train, y_train)\n",
    "plot_pr(lgbm_model_3_train_test, X_train, y_train)\n",
    "\n",
    "print(\"Test\")\n",
    "plot_roc(lgbm_model_3_train_test, X_test, y_test)\n",
    "plot_pr(lgbm_model_3_train_test, X_test, y_test)"
   ]
  },
  {
   "cell_type": "markdown",
   "metadata": {},
   "source": [
    "## Quick-and-Dirty Hyperparameter Search\n",
    "Do k-fold cross validation over different hyperparameters & get the average AUC. Then pick the config with the highest and train 1 more final model using those hyperparams on the whole dataset"
   ]
  },
  {
   "cell_type": "code",
   "execution_count": 9,
   "metadata": {},
   "outputs": [],
   "source": [
    "def kfold_fit_v2(df, n_splits, model_class, model_kwargs=None):\n",
    "    if model_kwargs is None:\n",
    "        model_kwargs = {}\n",
    "\n",
    "    X, y = get_xy(df)\n",
    "    skf = StratifiedKFold(n_splits=n_splits, shuffle=True)\n",
    "\n",
    "    aucs = []\n",
    "    for irun, (train_index, test_index) in enumerate(skf.split(X, y)):\n",
    "        X_train, X_test = copy.deepcopy(X.iloc[train_index, :]), copy.deepcopy(X.iloc[test_index, :])\n",
    "        y_train, y_test = copy.deepcopy(y.iloc[train_index]), copy.deepcopy(y.iloc[test_index])\n",
    "\n",
    "        model = model_class(**model_kwargs)\n",
    "        model.fit(X_train, y_train)\n",
    "        iauc = eval_auc(model, X_test, y_test)\n",
    "        aucs.append(iauc)\n",
    "\n",
    "    print(f\"AUCs: {aucs}\")\n",
    "    mean_auc = np.mean(aucs)\n",
    "\n",
    "    return mean_auc\n",
    "\n",
    "\n",
    "def quick_and_dirty_grid_search_xgboost(tree_model_class, df):\n",
    "    res = []\n",
    "\n",
    "    for nest in [10, 25, 50, 100]:\n",
    "        for max_depth in [2, 3, 4, 5]:\n",
    "            params = {'n_estimators': nest, 'max_depth': max_depth}\n",
    "\n",
    "            mean_auc = kfold_fit_v2(df, 5, tree_model_class, params)\n",
    "\n",
    "            print(f\"params={params} - auc={mean_auc:.3f}\")\n",
    "\n",
    "            res.append((mean_auc, params))\n",
    "\n",
    "    res.sort(key=lambda x: x[0], reverse=True)\n",
    "\n",
    "    return res\n",
    "\n",
    "\n",
    "def quick_and_dirty_grid_search_lightgbm(tree_model_class, df):\n",
    "    res = []\n",
    "\n",
    "    for nest in [50, 100, 200]:\n",
    "        for btype in ['gbdt', 'dart', 'goss']:\n",
    "            params = {'n_estimators': nest, 'boosting_type': btype}\n",
    "\n",
    "            mean_auc = kfold_fit_v2(df, 5, tree_model_class, params)\n",
    "\n",
    "            print(f\"params={params} - auc={mean_auc:.3f}\")\n",
    "\n",
    "            res.append((mean_auc, params))\n",
    "\n",
    "    res.sort(key=lambda x: x[0], reverse=True)\n",
    "\n",
    "    return res"
   ]
  },
  {
   "cell_type": "markdown",
   "metadata": {},
   "source": [
    "### LightGBM"
   ]
  },
  {
   "cell_type": "code",
   "execution_count": 10,
   "metadata": {},
   "outputs": [
    {
     "name": "stdout",
     "output_type": "stream",
     "text": [
      "AUCs: [0.8627119908403673, 0.8616739095287321, 0.8662323295173391, 0.8722192999373329, 0.862474551253586]\n",
      "params={'n_estimators': 50, 'boosting_type': 'gbdt'} - auc=0.865\n",
      "AUCs: [0.8709956256827859, 0.8578584437281505, 0.8631284086622166, 0.867127599825227, 0.8621045261466801]\n",
      "params={'n_estimators': 50, 'boosting_type': 'dart'} - auc=0.864\n",
      "AUCs: [0.86694708864761, 0.8655719337127799, 0.8561798397380367, 0.8702884777696765, 0.8630197056029332]\n",
      "params={'n_estimators': 50, 'boosting_type': 'goss'} - auc=0.864\n",
      "AUCs: [0.8655562390488034, 0.8618031809207113, 0.8690341123437165, 0.8614876899553223, 0.8651534763733637]\n",
      "params={'n_estimators': 100, 'boosting_type': 'gbdt'} - auc=0.865\n",
      "AUCs: [0.8665232244966892, 0.8687907129835707, 0.8615465444265742, 0.8648306542092705, 0.8631119112381576]\n",
      "params={'n_estimators': 100, 'boosting_type': 'dart'} - auc=0.865\n",
      "AUCs: [0.8618657494687475, 0.8628702132862165, 0.864624480948014, 0.8575618464109418, 0.8674847262982034]\n",
      "params={'n_estimators': 100, 'boosting_type': 'goss'} - auc=0.863\n",
      "AUCs: [0.8643238232006845, 0.8623194380542659, 0.8636736342747345, 0.8623565572583989, 0.8624459658141661]\n",
      "params={'n_estimators': 200, 'boosting_type': 'gbdt'} - auc=0.863\n",
      "AUCs: [0.8659259949664474, 0.875391321660129, 0.8569361824942912, 0.8631863456201432, 0.8672403916089397]\n",
      "params={'n_estimators': 200, 'boosting_type': 'dart'} - auc=0.866\n",
      "AUCs: [0.8583451884113324, 0.8629651001982452, 0.8596262157608301, 0.8519172420796552, 0.868269538691225]\n",
      "params={'n_estimators': 200, 'boosting_type': 'goss'} - auc=0.860\n",
      "Top-5 params x AUCs:\n",
      "params={'n_estimators': 200, 'boosting_type': 'dart'} - auc=0.8657360472699901\n",
      "params={'n_estimators': 50, 'boosting_type': 'gbdt'} - auc=0.8650624162154715\n",
      "params={'n_estimators': 100, 'boosting_type': 'dart'} - auc=0.8649606094708524\n",
      "params={'n_estimators': 100, 'boosting_type': 'gbdt'} - auc=0.8646069397283835\n",
      "params={'n_estimators': 50, 'boosting_type': 'goss'} - auc=0.8644014090942072\n"
     ]
    }
   ],
   "source": [
    "df, _ = null_transform(raw_df)\n",
    "\n",
    "res = quick_and_dirty_grid_search_lightgbm(LightGBMClassifier, df)\n",
    "\n",
    "print(\"Top-5 params x AUCs:\")\n",
    "for ires in res[:5]:\n",
    "    print(f\"params={ires[1]} - auc={ires[0]}\")\n",
    "\n",
    "X, y = get_xy(df)\n",
    "\n",
    "lgbm_tune = LightGBMClassifier(**res[0][1])\n",
    "lgbm_tune.fit(X, y)\n",
    "lgbm_tune.save(\"./data/models/lgbm_tune.pckl\")"
   ]
  },
  {
   "cell_type": "markdown",
   "metadata": {},
   "source": [
    "### XGBoost\n",
    "Very slow"
   ]
  },
  {
   "cell_type": "code",
   "execution_count": 11,
   "metadata": {},
   "outputs": [
    {
     "name": "stdout",
     "output_type": "stream",
     "text": [
      "AUCs: [0.8459026186426075, 0.8425720659950409, 0.8458304943125308, 0.8401890790081413, 0.8475759075253462]\n",
      "params={'n_estimators': 10, 'max_depth': 2} - auc=0.844\n",
      "AUCs: [0.8522411795833477, 0.8515625029229035, 0.8513011541515918, 0.844799921966828, 0.8425823724311298]\n",
      "params={'n_estimators': 10, 'max_depth': 3} - auc=0.848\n",
      "AUCs: [0.8565486027450263, 0.8467381109647741, 0.8567251544295182, 0.8507594293423434, 0.8511967179746651]\n",
      "params={'n_estimators': 10, 'max_depth': 4} - auc=0.852\n",
      "AUCs: [0.857166195205909, 0.8501968689635082, 0.862373375366727, 0.8540208150814248, 0.8638826313391375]\n",
      "params={'n_estimators': 10, 'max_depth': 5} - auc=0.858\n",
      "AUCs: [0.8625134812038843, 0.860541689177663, 0.8567522611581423, 0.8676172490723539, 0.8498869098017593]\n",
      "params={'n_estimators': 25, 'max_depth': 2} - auc=0.859\n",
      "AUCs: [0.8612293700451835, 0.8649674349578811, 0.8680707500760511, 0.8572869576371627, 0.8628184227767783]\n",
      "params={'n_estimators': 25, 'max_depth': 3} - auc=0.863\n",
      "AUCs: [0.8672460951787775, 0.8638809655625181, 0.863867238494227, 0.8670870867125808, 0.8568209944864575]\n",
      "params={'n_estimators': 25, 'max_depth': 4} - auc=0.864\n",
      "AUCs: [0.8635387507549509, 0.8703253297369188, 0.8613141730421223, 0.8672002526279408, 0.860289800592286]\n",
      "params={'n_estimators': 25, 'max_depth': 5} - auc=0.865\n",
      "AUCs: [0.856915019747502, 0.8635998234454942, 0.8651699203500447, 0.8619299937332949, 0.8666481144878472]\n",
      "params={'n_estimators': 50, 'max_depth': 2} - auc=0.863\n",
      "AUCs: [0.8574717905296756, 0.8685084039321236, 0.8688702604980674, 0.8682564173598866, 0.8597325938591636]\n",
      "params={'n_estimators': 50, 'max_depth': 3} - auc=0.865\n",
      "AUCs: [0.8573367202813934, 0.8662733771037667, 0.8666082427437389, 0.8669190214319532, 0.8647499130366618]\n",
      "params={'n_estimators': 50, 'max_depth': 4} - auc=0.864\n",
      "AUCs: [0.8655200006895082, 0.864690809144312, 0.8627720838999127, 0.8641909603558526, 0.8650229044285161]\n",
      "params={'n_estimators': 50, 'max_depth': 5} - auc=0.864\n",
      "AUCs: [0.8674120615220852, 0.8654563715732994, 0.8628906925399485, 0.8611887231376818, 0.8665089998703901]\n",
      "params={'n_estimators': 100, 'max_depth': 2} - auc=0.865\n",
      "AUCs: [0.8695351396692255, 0.8578289585911985, 0.8667987648310906, 0.8629482108267462, 0.8678679618154115]\n",
      "params={'n_estimators': 100, 'max_depth': 3} - auc=0.865\n",
      "AUCs: [0.8611960877387842, 0.8639013111978048, 0.8662817238026563, 0.8651810195889096, 0.8635629091229775]\n",
      "params={'n_estimators': 100, 'max_depth': 4} - auc=0.864\n",
      "AUCs: [0.866085283479418, 0.8658659744637336, 0.8604010513099284, 0.8589385350697198, 0.8581128621560941]\n",
      "params={'n_estimators': 100, 'max_depth': 5} - auc=0.862\n",
      "Top-5 params x AUCs:\n",
      "params={'n_estimators': 100, 'max_depth': 3} - auc=0.8649958071467344\n",
      "params={'n_estimators': 100, 'max_depth': 2} - auc=0.8646913697286809\n",
      "params={'n_estimators': 50, 'max_depth': 3} - auc=0.8645678932357834\n",
      "params={'n_estimators': 25, 'max_depth': 5} - auc=0.8645336613508438\n",
      "params={'n_estimators': 50, 'max_depth': 5} - auc=0.8644393517036202\n"
     ]
    }
   ],
   "source": [
    "df, _ = null_transform(raw_df)\n",
    "\n",
    "res = quick_and_dirty_grid_search_xgboost(XGBoostClassifier, df)\n",
    "\n",
    "print(\"Top-5 params x AUCs:\")\n",
    "for ires in res[:5]:\n",
    "    print(f\"params={ires[1]} - auc={ires[0]}\")\n",
    "\n",
    "X, y = get_xy(df)\n",
    "\n",
    "xgb_tune = XGBoostClassifier(**res[0][1])\n",
    "xgb_tune.fit(X, y)\n",
    "xgb_tune.save(\"./data/models/xgb_tune.pckl\")"
   ]
  },
  {
   "cell_type": "markdown",
   "metadata": {},
   "source": [
    "# Predict & Save"
   ]
  },
  {
   "cell_type": "code",
   "execution_count": 12,
   "metadata": {},
   "outputs": [],
   "source": [
    "def generate_outputs(model, transform, input_csv, output_csv):\n",
    "    model_with_transform = Ensemble()\n",
    "    model_with_transform.add_model(model, weight=1.0, transform=transform)\n",
    "\n",
    "    generate_test_output(input_csv, model_with_transform, output_csv)"
   ]
  },
  {
   "cell_type": "code",
   "execution_count": 13,
   "metadata": {},
   "outputs": [],
   "source": [
    "generate_outputs(LightGBMClassifier(\"./data/models/lgbm_model_3.pckl\"), \n",
    "                 null_transform, \"./data/dataset/cs-test.csv\", \"./data/outputs/pred_out_lgbm_3.csv\")\n",
    "\n",
    "# Kaggle AUC=0.86784\n",
    "generate_outputs(LightGBMClassifier(\"./data/models/lgbm_tune.pckl\"), \n",
    "                 null_transform, \"./data/dataset/cs-test.csv\", \"./data/outputs/pred_out_lgbm_tune.csv\")\n",
    "\n",
    "generate_outputs(XGBoostClassifier(\"./data/models/xg_cls_model_3.pckl\"), \n",
    "                 null_transform, \"./data/dataset/cs-test.csv\", \"./data/outputs/pred_out_xg_3.csv\")\n",
    "\n",
    "# Kaggle AUC=0.86651\n",
    "generate_outputs(XGBoostClassifier(\"./data/models/xgb_tune.pckl\"), \n",
    "                 null_transform, \"./data/dataset/cs-test.csv\", \"./data/outputs/pred_out_xgb_tune.csv\")"
   ]
  },
  {
   "cell_type": "markdown",
   "metadata": {},
   "source": [
    "## Ensemble\n",
    "Pick the best invididual model params one more grid search over the weight of each model (tuned trees & WoE binned logistic model)"
   ]
  },
  {
   "cell_type": "code",
   "execution_count": 17,
   "metadata": {
    "scrolled": true
   },
   "outputs": [
    {
     "name": "stdout",
     "output_type": "stream",
     "text": [
      "weights=(0.0, 0.4, 0.6000000000000001), auc=0.8663531161512432\n",
      "weights=(0.0, 0.6000000000000001, 0.4), auc=0.8662428746351722\n",
      "weights=(0.0, 0.2, 0.8), auc=0.8661450963592319\n",
      "weights=(0.0, 0.8, 0.2), auc=0.8657904502091046\n",
      "weights=(0.0, 0.0, 1.0), auc=0.8655954105493462\n"
     ]
    }
   ],
   "source": [
    "woe_v2_transform = WoETransformV2()\n",
    "woe_v2_transform.load(\"./data/models/woe_fit_v2.pckl\")\n",
    "\n",
    "X, y = get_xy(raw_df)\n",
    "skf = StratifiedKFold(n_splits=5, shuffle=True)\n",
    "\n",
    "aucs = defaultdict(list)\n",
    "for irun, (train_index, test_index) in enumerate(skf.split(X, y)):\n",
    "    X_train, X_test = copy.deepcopy(X.iloc[train_index, :]), copy.deepcopy(X.iloc[test_index, :])\n",
    "    y_train, y_test = copy.deepcopy(y.iloc[train_index]), copy.deepcopy(y.iloc[test_index])\n",
    "    \n",
    "    X_train_null, _ = null_transform(X_train)\n",
    "    X_train_woe_v2, _ = woe_v2_transform(X_train)\n",
    "    \n",
    "    xgb_tune = XGBoostClassifier(**{'n_estimators': 100, 'max_depth': 3})\n",
    "    lgbm_tune = LightGBMClassifier(**{'n_estimators': 200, 'boosting_type': 'dart'})\n",
    "    sm_lg_v2 = StatsModelsLogisticRegression()\n",
    "\n",
    "    xgb_tune.fit(X_train_null, y_train)\n",
    "    lgbm_tune.fit(X_train_null, y_train)\n",
    "    sm_lg_v2.fit(X_train_woe_v2, y_train)\n",
    "    \n",
    "    for iw1 in range(5 + 1):\n",
    "        iw23_rem = 5 - iw1\n",
    "    \n",
    "        for iw2 in range(iw23_rem + 1):\n",
    "            iw3 = 5 - iw2 - iw1\n",
    "\n",
    "            w1 = 0.2 * iw1\n",
    "            w2 = 0.2 * iw2\n",
    "            w3 = 0.2 * iw3\n",
    "\n",
    "            ens = Ensemble()\n",
    "            ens.add_model(sm_lg_v2, weight=w1, transform=woe_v2_transform)\n",
    "            ens.add_model(xgb_tune, weight=w2, transform=null_transform)\n",
    "            ens.add_model(lgbm_tune, weight=w3, transform=null_transform)\n",
    "\n",
    "            y_pred = ens.predict(X_test)\n",
    "            iauc = roc_auc_score(y_test, y_pred)\n",
    "\n",
    "            # print(f\"w1={w1:.2f}, w2={w2:.2f}, w3={w3:.2f}, auc={iauc:.3f}\")\n",
    "    \n",
    "            aucs[(iw1, iw2, iw3)].append(iauc)\n",
    "\n",
    "final_aucs = [(tuple([0.2 * ik for ik in k]), np.mean(v)) for k, v in aucs.items()]\n",
    "final_aucs.sort(key=lambda x: x[1], reverse=True)\n",
    "for ifinal_auc in final_aucs[:5]:\n",
    "    print(f\"weights={ifinal_auc[0]}, auc={ifinal_auc[1]}\")"
   ]
  },
  {
   "cell_type": "markdown",
   "metadata": {},
   "source": [
    "Turns out the best model has 0 weight for logistic so we will drop that model from the final ensemble which uses 40% weighted score from XGBoost and 60% from LightGBM. The final kaggle private score for this model is 0.86810, which is ~50th in the Private Scores (100th=0.86723, 1st=0.86955)"
   ]
  },
  {
   "cell_type": "code",
   "execution_count": 18,
   "metadata": {},
   "outputs": [],
   "source": [
    "xgb_tune = XGBoostClassifier(\"./data/models/xgb_tune.pckl\")\n",
    "lgbm_tune = LightGBMClassifier(\"./data/models/lgbm_tune.pckl\")\n",
    "\n",
    "final_ens = Ensemble()\n",
    "final_ens.add_model(xgb_tune, weight=0.4, transform=null_transform)\n",
    "final_ens.add_model(lgbm_tune, weight=0.6, transform=null_transform)"
   ]
  },
  {
   "cell_type": "code",
   "execution_count": 19,
   "metadata": {},
   "outputs": [
    {
     "data": {
      "text/html": [
       "<div>\n",
       "<style scoped>\n",
       "    .dataframe tbody tr th:only-of-type {\n",
       "        vertical-align: middle;\n",
       "    }\n",
       "\n",
       "    .dataframe tbody tr th {\n",
       "        vertical-align: top;\n",
       "    }\n",
       "\n",
       "    .dataframe thead th {\n",
       "        text-align: right;\n",
       "    }\n",
       "</style>\n",
       "<table border=\"1\" class=\"dataframe\">\n",
       "  <thead>\n",
       "    <tr style=\"text-align: right;\">\n",
       "      <th></th>\n",
       "      <th>id</th>\n",
       "      <th>Probability</th>\n",
       "    </tr>\n",
       "  </thead>\n",
       "  <tbody>\n",
       "    <tr>\n",
       "      <th>0</th>\n",
       "      <td>1</td>\n",
       "      <td>0.077253</td>\n",
       "    </tr>\n",
       "    <tr>\n",
       "      <th>1</th>\n",
       "      <td>2</td>\n",
       "      <td>0.059796</td>\n",
       "    </tr>\n",
       "    <tr>\n",
       "      <th>2</th>\n",
       "      <td>3</td>\n",
       "      <td>0.016305</td>\n",
       "    </tr>\n",
       "    <tr>\n",
       "      <th>3</th>\n",
       "      <td>4</td>\n",
       "      <td>0.081317</td>\n",
       "    </tr>\n",
       "    <tr>\n",
       "      <th>4</th>\n",
       "      <td>5</td>\n",
       "      <td>0.129112</td>\n",
       "    </tr>\n",
       "    <tr>\n",
       "      <th>...</th>\n",
       "      <td>...</td>\n",
       "      <td>...</td>\n",
       "    </tr>\n",
       "    <tr>\n",
       "      <th>101498</th>\n",
       "      <td>101499</td>\n",
       "      <td>0.032261</td>\n",
       "    </tr>\n",
       "    <tr>\n",
       "      <th>101499</th>\n",
       "      <td>101500</td>\n",
       "      <td>0.351189</td>\n",
       "    </tr>\n",
       "    <tr>\n",
       "      <th>101500</th>\n",
       "      <td>101501</td>\n",
       "      <td>0.006172</td>\n",
       "    </tr>\n",
       "    <tr>\n",
       "      <th>101501</th>\n",
       "      <td>101502</td>\n",
       "      <td>0.077522</td>\n",
       "    </tr>\n",
       "    <tr>\n",
       "      <th>101502</th>\n",
       "      <td>101503</td>\n",
       "      <td>0.044601</td>\n",
       "    </tr>\n",
       "  </tbody>\n",
       "</table>\n",
       "<p>101503 rows × 2 columns</p>\n",
       "</div>"
      ],
      "text/plain": [
       "            id  Probability\n",
       "0            1     0.077253\n",
       "1            2     0.059796\n",
       "2            3     0.016305\n",
       "3            4     0.081317\n",
       "4            5     0.129112\n",
       "...        ...          ...\n",
       "101498  101499     0.032261\n",
       "101499  101500     0.351189\n",
       "101500  101501     0.006172\n",
       "101501  101502     0.077522\n",
       "101502  101503     0.044601\n",
       "\n",
       "[101503 rows x 2 columns]"
      ]
     },
     "execution_count": 19,
     "metadata": {},
     "output_type": "execute_result"
    }
   ],
   "source": [
    "# Kaggle AUC=0.86825\n",
    "generate_test_output(\"./data/dataset/cs-test.csv\", final_ens, \"./data/outputs/final_ens.csv\")"
   ]
  },
  {
   "cell_type": "code",
   "execution_count": null,
   "metadata": {},
   "outputs": [],
   "source": []
  }
 ],
 "metadata": {
  "kernelspec": {
   "display_name": "python38",
   "language": "python",
   "name": "python38"
  },
  "language_info": {
   "codemirror_mode": {
    "name": "ipython",
    "version": 3
   },
   "file_extension": ".py",
   "mimetype": "text/x-python",
   "name": "python",
   "nbconvert_exporter": "python",
   "pygments_lexer": "ipython3",
   "version": "3.8.12"
  }
 },
 "nbformat": 4,
 "nbformat_minor": 2
}
